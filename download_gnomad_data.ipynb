{
 "cells": [
  {
   "cell_type": "code",
   "execution_count": 9,
   "metadata": {},
   "outputs": [],
   "source": [
    "import requests\n",
    "import pandas as pd"
   ]
  },
  {
   "cell_type": "code",
   "execution_count": 10,
   "metadata": {},
   "outputs": [],
   "source": [
    "# type the gene's name in the gene_id_list here!!\n",
    "gene_id_list = [\n",
    "    \"OR52M1\", \"OR55\", \"OR52N4\", \"OR11H1\", \"OR4K15\", \"OR6S1\", \"OR5AP2\",\n",
    "    \"OR5H1\", \"OR13C1\", \"OR2K2\", \"OR8G5\", \"OR1L3\", \"OR2T27\"\n",
    "]\n",
    "saved_list = []\n",
    "\n",
    "def fetch(jsondata, url=\"https://gnomad.broadinstitute.org/api\"):\n",
    "    # The server gives a generic error message if the content type isn't\n",
    "    # explicitly set\n",
    "    headers = {\"Content-Type\": \"application/json\"}\n",
    "    response = requests.post(url, json=jsondata, headers=headers)\n",
    "    json = response.json()\n",
    "    if \"errors\" in json:\n",
    "        raise Exception(json[\"errors\"])\n",
    "    return json\n",
    "\n",
    "\n",
    "def get_variant_list(gene_id, dataset=\"gnomad_r2_1\"):\n",
    "    # Note that this is GraphQL, not JSON.\n",
    "    fmt_graphql = \"\"\"\n",
    "    {\n",
    "        gene(gene_name: \"%s\") {\n",
    "          variants(dataset: %s) {\n",
    "            consequence\n",
    "            pos\n",
    "            rsid\n",
    "            variant_id: variantId\n",
    "          }\n",
    "        }\n",
    "      }\n",
    "    \"\"\"\n",
    "    # This part will be JSON encoded, but with the GraphQL part left as a\n",
    "    # glob of text.\n",
    "    req_variantlist = {\n",
    "        \"query\": fmt_graphql % (gene_id, dataset),\n",
    "        \"variables\": {}\n",
    "    }\n",
    "    response = fetch(req_variantlist)\n",
    "    return response[\"data\"][\"gene\"][\"variants\"]\n",
    "\n",
    "# add the gene_id at the last column! \n",
    "def make_df(gene_id):\n",
    "    li = get_variant_list(gene_id)\n",
    "    df = pd.DataFrame(li)\n",
    "    df['SYMBOL'] = gene_id\n",
    "    return df\n",
    "\n",
    "\n",
    "def make_csv(df, gene_id):\n",
    "    df.to_csv(gene_id + '.csv')\n",
    "\n",
    "# generate and download csv file of each gene, saved to current path\n",
    "def generate_csv(gene_id_list):\n",
    "    for gene_id in gene_id_list:\n",
    "        try:\n",
    "            foo = get_variant_list(gene_id)\n",
    "            gene_df = make_df(gene_id)\n",
    "            make_csv(gene_df, gene_id)\n",
    "            saved_list.append(gene_id)\n",
    "            print('\\x1b[6;30;42m' + 'saved: ' + gene_id + '\\x1b[0m')\n",
    "        except:\n",
    "            print('\\x1b[6;30;41m' + 'error: ' + gene_id + '\\x1b[0m')\n",
    "            pass\n",
    "\n",
    "# download the combined csv file to current path, named as \"output.csv\"\n",
    "def combine_csv():\n",
    "    generate_csv(gene_id_list)\n",
    "    combined_csv = pd.read_csv(saved_list[0] + '.csv')\n",
    "    combined_csv.to_csv('output.csv', encoding=\"utf_8_sig\", index=False)\n",
    "    for gene_id in saved_list:\n",
    "        combined_csv = pd.read_csv(gene_id + '.csv')\n",
    "        combined_csv.to_csv('output.csv',\n",
    "                            encoding=\"utf_8_sig\",\n",
    "                            index=False,\n",
    "                            header=False,\n",
    "                            mode='a+')\n",
    "    print('combined file: \\x1b[6;30;42m output.csv \\x1b[6;30;41m')"
   ]
  },
  {
   "cell_type": "code",
   "execution_count": 11,
   "metadata": {},
   "outputs": [
    {
     "name": "stdout",
     "output_type": "stream",
     "text": [
      "\u001b[6;30;42msaved: OR52M1\u001b[0m\n",
      "\u001b[6;30;41merror: OR55\u001b[0m\n",
      "\u001b[6;30;42msaved: OR52N4\u001b[0m\n",
      "\u001b[6;30;42msaved: OR11H1\u001b[0m\n",
      "\u001b[6;30;42msaved: OR4K15\u001b[0m\n",
      "\u001b[6;30;42msaved: OR6S1\u001b[0m\n",
      "\u001b[6;30;42msaved: OR5AP2\u001b[0m\n",
      "\u001b[6;30;42msaved: OR5H1\u001b[0m\n",
      "\u001b[6;30;41merror: OR13C1\u001b[0m\n",
      "\u001b[6;30;42msaved: OR2K2\u001b[0m\n",
      "\u001b[6;30;42msaved: OR8G5\u001b[0m\n",
      "\u001b[6;30;42msaved: OR1L3\u001b[0m\n",
      "\u001b[6;30;42msaved: OR2T27\u001b[0m\n",
      "combined file: \u001b[6;30;42m output.csv \u001b[6;30;41m\n"
     ]
    }
   ],
   "source": [
    "combine_csv()"
   ]
  },
  {
   "cell_type": "code",
   "execution_count": null,
   "metadata": {},
   "outputs": [],
   "source": []
  }
 ],
 "metadata": {
  "kernelspec": {
   "display_name": "Python 3",
   "language": "python",
   "name": "python3"
  },
  "language_info": {
   "codemirror_mode": {
    "name": "ipython",
    "version": 3
   },
   "file_extension": ".py",
   "mimetype": "text/x-python",
   "name": "python",
   "nbconvert_exporter": "python",
   "pygments_lexer": "ipython3",
   "version": "3.7.3"
  }
 },
 "nbformat": 4,
 "nbformat_minor": 2
}
